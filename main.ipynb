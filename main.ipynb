{
  "nbformat": 4,
  "nbformat_minor": 0,
  "metadata": {
    "colab": {
      "provenance": [],
      "gpuType": "T4"
    },
    "kernelspec": {
      "name": "python3",
      "display_name": "Python 3"
    },
    "language_info": {
      "name": "python"
    },
    "accelerator": "GPU"
  },
  "cells": [
    {
      "cell_type": "code",
      "source": [
        "from car_rental import CarRental\n",
        "from customer import Customer"
      ],
      "metadata": {
        "id": "H-mx544uR4R4"
      },
      "execution_count": 1,
      "outputs": []
    },
    {
      "cell_type": "code",
      "source": [
        "def main():\n",
        "    total_cars = {'car1': 5, 'car2': 3, 'car3': 8,'car4':7,'car5':3}\n",
        "    car_rental = CarRental(total_cars)\n",
        "\n",
        "    customer_name = input(\"Enter your name: \")\n",
        "    customer = Customer(customer_name)\n",
        "\n",
        "    while True:\n",
        "        print(\"\\nOptions:\")\n",
        "        print(\"1. Display available cars\")\n",
        "        print(\"2. Rent a car\")\n",
        "        print(\"3. Return a car\")\n",
        "        print(\"4. Exit\")\n",
        "\n",
        "        choice = input(\"Enter your choice (1-4): \")\n",
        "\n",
        "        if choice == '1':\n",
        "            car_rental.display_available_cars()\n",
        "        elif choice == '2':\n",
        "            car_id = input(\"Enter the car ID you want to rent: \")\n",
        "            num_cars = int(input(\"Enter the number of cars you want to rent: \"))\n",
        "            rental_period = input(\"Enter the rental period (hourly/daily/weekly): \")\n",
        "            message = customer.request_car(car_rental, car_id, num_cars, rental_period)\n",
        "            print(message)\n",
        "        elif choice == '3':\n",
        "            car_id = input(\"Enter the car ID you want to return: \")\n",
        "            num_cars_to_return = int(input(\"Enter the number of cars you want to return: \"))\n",
        "            message = customer.return_car(car_rental, car_id, num_cars_to_return)\n",
        "            print(message)\n",
        "        elif choice == '4':\n",
        "            print(\"Exiting the program. Thank you!\")\n",
        "            break\n",
        "        else:\n",
        "            print(\"Invalid choice. Please enter a valid option.\")\n",
        "\n",
        "if __name__ == \"__main__\":\n",
        "    main()\n"
      ],
      "metadata": {
        "colab": {
          "base_uri": "https://localhost:8080/"
        },
        "id": "5ccM6vHgWfTL",
        "outputId": "896ffed4-c01f-4228-e37f-65e3fbab190a"
      },
      "execution_count": 4,
      "outputs": [
        {
          "output_type": "stream",
          "name": "stdout",
          "text": [
            "Enter your name: kritika\n",
            "\n",
            "Options:\n",
            "1. Display available cars\n",
            "2. Rent a car\n",
            "3. Return a car\n",
            "4. Exit\n",
            "Enter your choice (1-4): 1\n",
            "Available Cars: {'car1': 5, 'car2': 3, 'car3': 8, 'car4': 7, 'car5': 3}\n",
            "\n",
            "Options:\n",
            "1. Display available cars\n",
            "2. Rent a car\n",
            "3. Return a car\n",
            "4. Exit\n",
            "Enter your choice (1-4): 2\n",
            "Enter the car ID you want to rent: car1\n",
            "Enter the number of cars you want to rent: 3\n",
            "Enter the rental period (hourly/daily/weekly): hourly\n",
            "3 car(s) rented for hourly period starting at 2024-01-02 18:37:46.\n",
            "\n",
            "Options:\n",
            "1. Display available cars\n",
            "2. Rent a car\n",
            "3. Return a car\n",
            "4. Exit\n",
            "Enter your choice (1-4): 1\n",
            "Available Cars: {'car1': 2, 'car2': 3, 'car3': 8, 'car4': 7, 'car5': 3}\n",
            "\n",
            "Options:\n",
            "1. Display available cars\n",
            "2. Rent a car\n",
            "3. Return a car\n",
            "4. Exit\n",
            "Enter your choice (1-4): 3\n",
            "Enter the car ID you want to return: car1\n",
            "Enter the number of cars you want to return: 2\n",
            "2 car(s) returned by kritika. Total bill: $0.16.\n",
            "\n",
            "Options:\n",
            "1. Display available cars\n",
            "2. Rent a car\n",
            "3. Return a car\n",
            "4. Exit\n",
            "Enter your choice (1-4): 1\n",
            "Available Cars: {'car1': 4, 'car2': 3, 'car3': 8, 'car4': 7, 'car5': 3}\n",
            "\n",
            "Options:\n",
            "1. Display available cars\n",
            "2. Rent a car\n",
            "3. Return a car\n",
            "4. Exit\n",
            "Enter your choice (1-4): 3\n",
            "Enter the car ID you want to return: car5\n",
            "Enter the number of cars you want to return: 1\n",
            "Invalid return request. Car not found in the rented list.\n",
            "\n",
            "Options:\n",
            "1. Display available cars\n",
            "2. Rent a car\n",
            "3. Return a car\n",
            "4. Exit\n",
            "Enter your choice (1-4): 3\n",
            "Enter the car ID you want to return: car1\n",
            "Enter the number of cars you want to return: 1\n",
            "1 car(s) returned by kritika. Total bill: $0.14.\n",
            "\n",
            "Options:\n",
            "1. Display available cars\n",
            "2. Rent a car\n",
            "3. Return a car\n",
            "4. Exit\n",
            "Enter your choice (1-4): 4\n",
            "Exiting the program. Thank you!\n"
          ]
        }
      ]
    },
    {
      "cell_type": "code",
      "source": [],
      "metadata": {
        "id": "9AE5UOmxW89x"
      },
      "execution_count": 2,
      "outputs": []
    }
  ]
}